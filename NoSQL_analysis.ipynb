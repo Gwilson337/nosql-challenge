{
 "cells": [
  {
   "cell_type": "markdown",
   "id": "9a57c4c6",
   "metadata": {},
   "source": [
    "# Eat Safe, Love"
   ]
  },
  {
   "cell_type": "markdown",
   "id": "064ef857",
   "metadata": {},
   "source": [
    "## Notebook Set Up"
   ]
  },
  {
   "cell_type": "code",
   "execution_count": 1,
   "id": "3ecdd008",
   "metadata": {},
   "outputs": [],
   "source": [
    "# Import dependencies\n",
    "from pymongo import MongoClient\n",
    "from pprint import pprint"
   ]
  },
  {
   "cell_type": "code",
   "execution_count": 2,
   "id": "59390c4a",
   "metadata": {},
   "outputs": [],
   "source": [
    "# Create an instance of MongoClient\n",
    "mongo = MongoClient(port=27017)"
   ]
  },
  {
   "cell_type": "code",
   "execution_count": 3,
   "id": "71e373c1",
   "metadata": {},
   "outputs": [],
   "source": [
    "# assign the uk_food database to a variable name\n",
    "db = mongo['uk_food']"
   ]
  },
  {
   "cell_type": "code",
   "execution_count": 5,
   "id": "18ab463c",
   "metadata": {},
   "outputs": [
    {
     "name": "stdout",
     "output_type": "stream",
     "text": [
      "['establishments']\n"
     ]
    }
   ],
   "source": [
    "# review the collections in our database\n",
    "print(db.list_collection_names())"
   ]
  },
  {
   "cell_type": "code",
   "execution_count": 6,
   "id": "11c9f11b",
   "metadata": {},
   "outputs": [],
   "source": [
    "# assign the collection to a variable\n",
    "establishments = db['establishments']"
   ]
  },
  {
   "cell_type": "markdown",
   "id": "d5671434",
   "metadata": {},
   "source": [
    "## Part 3: Exploratory Analysis\n",
    "Unless otherwise stated, for each question: \n",
    "* Use `count_documents` to display the number of documents contained in the result.\n",
    "* Display the first document in the results using `pprint`.\n",
    "* Convert the result to a Pandas DataFrame, print the number of rows in the DataFrame, and display the first 10 rows."
   ]
  },
  {
   "cell_type": "markdown",
   "id": "314bd884",
   "metadata": {},
   "source": [
    "### 1. Which establishments have a hygiene score equal to 20?"
   ]
  },
  {
   "cell_type": "code",
   "execution_count": 7,
   "id": "c2da7648",
   "metadata": {},
   "outputs": [
    {
     "name": "stdout",
     "output_type": "stream",
     "text": [
      "There are 41 establishments with a hygiene score of 20.\n",
      "{'AddressLine1': '5-6 Southfields Road',\n",
      " 'AddressLine2': 'Eastbourne',\n",
      " 'AddressLine3': 'East Sussex',\n",
      " 'AddressLine4': '',\n",
      " 'BusinessName': 'The Chase Rest Home',\n",
      " 'BusinessType': 'Caring Premises',\n",
      " 'BusinessTypeID': 5,\n",
      " 'ChangesByServerID': 0,\n",
      " 'Distance': 4613.888288172291,\n",
      " 'FHRSID': 110681,\n",
      " 'LocalAuthorityBusinessID': '4029',\n",
      " 'LocalAuthorityCode': '102',\n",
      " 'LocalAuthorityEmailAddress': 'Customerfirst@eastbourne.gov.uk',\n",
      " 'LocalAuthorityName': 'Eastbourne',\n",
      " 'LocalAuthorityWebSite': 'http://www.eastbourne.gov.uk/foodratings',\n",
      " 'NewRatingPending': False,\n",
      " 'Phone': '',\n",
      " 'PostCode': 'BN21 1BU',\n",
      " 'RatingDate': '2021-09-23T00:00:00',\n",
      " 'RatingKey': 'fhrs_0_en-gb',\n",
      " 'RatingValue': '0',\n",
      " 'RightToReply': '',\n",
      " 'SchemeType': 'FHRS',\n",
      " '_id': ObjectId('65bb2a4cdd0c55f5aa68077c'),\n",
      " 'geocode': {'latitude': 50.769705, 'longitude': 0.27694},\n",
      " 'links': [{'href': 'https://api.ratings.food.gov.uk/establishments/110681',\n",
      "            'rel': 'self'}],\n",
      " 'meta': {'dataSource': None,\n",
      "          'extractDate': '0001-01-01T00:00:00',\n",
      "          'itemCount': 0,\n",
      "          'pageNumber': 0,\n",
      "          'pageSize': 0,\n",
      "          'returncode': None,\n",
      "          'totalCount': 0,\n",
      "          'totalPages': 0},\n",
      " 'scores': {'ConfidenceInManagement': 20, 'Hygiene': 20, 'Structural': 20}}\n"
     ]
    }
   ],
   "source": [
    "# Find the establishments with a hygiene score of 20\n",
    "query = {'scores.Hygiene': 20}\n",
    "\n",
    "# Use count_documents to display the number of documents in the result\n",
    "count = establishments.count_documents(query)\n",
    "print(f\"There are {count} establishments with a hygiene score of 20.\")\n",
    "\n",
    "# Display the first document in the results using pprint\n",
    "pprint(establishments.find_one(query))"
   ]
  },
  {
   "cell_type": "code",
   "execution_count": 13,
   "id": "a6e5cece",
   "metadata": {},
   "outputs": [
    {
     "ename": "NameError",
     "evalue": "name 'pd' is not defined",
     "output_type": "error",
     "traceback": [
      "\u001b[1;31m---------------------------------------------------------------------------\u001b[0m",
      "\u001b[1;31mNameError\u001b[0m                                 Traceback (most recent call last)",
      "Cell \u001b[1;32mIn[13], line 2\u001b[0m\n\u001b[0;32m      1\u001b[0m \u001b[38;5;66;03m# Convert the result to a Pandas DataFrame\u001b[39;00m\n\u001b[1;32m----> 2\u001b[0m df \u001b[38;5;241m=\u001b[39m \u001b[43mpd\u001b[49m\u001b[38;5;241m.\u001b[39mDataFrame(establishments\u001b[38;5;241m.\u001b[39mfind(query))\n\u001b[0;32m      4\u001b[0m \u001b[38;5;66;03m# Display the number of rows in the DataFrame\u001b[39;00m\n\u001b[0;32m      5\u001b[0m \u001b[38;5;28mprint\u001b[39m(\u001b[38;5;124mf\u001b[39m\u001b[38;5;124m\"\u001b[39m\u001b[38;5;124mthe number of rows\u001b[39m\u001b[38;5;132;01m{\u001b[39;00m\u001b[38;5;28mlen\u001b[39m(df)\u001b[38;5;132;01m}\u001b[39;00m\u001b[38;5;124m rows in this DataFrame.\u001b[39m\u001b[38;5;124m\"\u001b[39m)\n",
      "\u001b[1;31mNameError\u001b[0m: name 'pd' is not defined"
     ]
    }
   ],
   "source": [
    "# Convert the result to a Pandas DataFrame\n",
    "df = pd.DataFrame(establishments.find(query))\n",
    "\n",
    "# Display the number of rows in the DataFrame\n",
    "print(f\"the number of rows{len(df)} rows in this DataFrame.\")\n",
    "\n",
    "# Display the first 10 rows of the DataFrame\n",
    "df.head(10)"
   ]
  },
  {
   "cell_type": "markdown",
   "id": "0ef4395a",
   "metadata": {},
   "source": [
    "### 2. Which establishments in London have a `RatingValue` greater than or equal to 4?"
   ]
  },
  {
   "cell_type": "code",
   "execution_count": 11,
   "id": "93c63829",
   "metadata": {},
   "outputs": [
    {
     "name": "stdout",
     "output_type": "stream",
     "text": [
      "There are 33 establishments in London that have a RatingValue greater than or equal to 4.\n",
      "{'AddressLine1': 'Oak Apple Farm Building 103 Sheernes Docks',\n",
      " 'AddressLine2': 'Sheppy Kent',\n",
      " 'AddressLine3': '',\n",
      " 'AddressLine4': '',\n",
      " 'BusinessName': \"Charlie's\",\n",
      " 'BusinessType': 'Other catering premises',\n",
      " 'BusinessTypeID': 7841,\n",
      " 'ChangesByServerID': 0,\n",
      " 'Distance': 4627.439467780196,\n",
      " 'FHRSID': 621707,\n",
      " 'LocalAuthorityBusinessID': 'PI/000025307',\n",
      " 'LocalAuthorityCode': '508',\n",
      " 'LocalAuthorityEmailAddress': 'publicprotection@cityoflondon.gov.uk',\n",
      " 'LocalAuthorityName': 'City of London Corporation',\n",
      " 'LocalAuthorityWebSite': 'http://www.cityoflondon.gov.uk/Corporation/homepage.htm',\n",
      " 'NewRatingPending': False,\n",
      " 'Phone': '',\n",
      " 'PostCode': 'ME12',\n",
      " 'RatingDate': '2021-10-18T00:00:00',\n",
      " 'RatingKey': 'fhrs_4_en-gb',\n",
      " 'RatingValue': '4',\n",
      " 'RightToReply': '',\n",
      " 'SchemeType': 'FHRS',\n",
      " '_id': ObjectId('65bb2a4ddd0c55f5aa682195'),\n",
      " 'geocode': {'latitude': 51.369321, 'longitude': 0.508551},\n",
      " 'links': [{'href': 'https://api.ratings.food.gov.uk/establishments/621707',\n",
      "            'rel': 'self'}],\n",
      " 'meta': {'dataSource': None,\n",
      "          'extractDate': '0001-01-01T00:00:00',\n",
      "          'itemCount': 0,\n",
      "          'pageNumber': 0,\n",
      "          'pageSize': 0,\n",
      "          'returncode': None,\n",
      "          'totalCount': 0,\n",
      "          'totalPages': 0},\n",
      " 'scores': {'ConfidenceInManagement': 5, 'Hygiene': 5, 'Structural': 10}}\n"
     ]
    }
   ],
   "source": [
    "# Find the establishments with London as the Local Authority and has a RatingValue greater than or equal to 4.\n",
    "query2 = {'LocalAuthorityName': {'$regex': 'London'}, \n",
    "          'RatingValue': {'$gte': '4'}\n",
    "         }\n",
    "\n",
    "# Use count_documents to display the number of documents in the result\n",
    "count2 = establishments.count_documents(query2)\n",
    "print(f\"There are {count2} establishments in London that have a RatingValue greater than or equal to 4.\")\n",
    "\n",
    "# Display the first document in the results using pprint\n",
    "pprint(establishments.find_one(query2))\n"
   ]
  },
  {
   "cell_type": "code",
   "execution_count": 14,
   "id": "07e24ccb",
   "metadata": {},
   "outputs": [
    {
     "ename": "NameError",
     "evalue": "name 'pd' is not defined",
     "output_type": "error",
     "traceback": [
      "\u001b[1;31m---------------------------------------------------------------------------\u001b[0m",
      "\u001b[1;31mNameError\u001b[0m                                 Traceback (most recent call last)",
      "Cell \u001b[1;32mIn[14], line 2\u001b[0m\n\u001b[0;32m      1\u001b[0m \u001b[38;5;66;03m# Convert the result to a Pandas DataFrame\u001b[39;00m\n\u001b[1;32m----> 2\u001b[0m df2 \u001b[38;5;241m=\u001b[39m \u001b[43mpd\u001b[49m\u001b[38;5;241m.\u001b[39mDataFrame(establishments\u001b[38;5;241m.\u001b[39mfind(query2))\n\u001b[0;32m      4\u001b[0m \u001b[38;5;66;03m# Display the number of rows in the DataFrame\u001b[39;00m\n\u001b[0;32m      5\u001b[0m \u001b[38;5;28mprint\u001b[39m(\u001b[38;5;124mf\u001b[39m\u001b[38;5;124m\"\u001b[39m\u001b[38;5;124mThere are \u001b[39m\u001b[38;5;132;01m{\u001b[39;00m\u001b[38;5;28mlen\u001b[39m(df2)\u001b[38;5;132;01m}\u001b[39;00m\u001b[38;5;124m rows in this DataFrame.\u001b[39m\u001b[38;5;124m\"\u001b[39m)\n",
      "\u001b[1;31mNameError\u001b[0m: name 'pd' is not defined"
     ]
    }
   ],
   "source": [
    "# Convert the result to a Pandas DataFrame\n",
    "df2 = pd.DataFrame(establishments.find(query2))\n",
    "\n",
    "# Display the number of rows in the DataFrame\n",
    "print(f\"There are {len(df2)} rows in this DataFrame.\")\n",
    "\n",
    "# Display the first 10 rows of the DataFrame\n",
    "df.head(10)\n"
   ]
  },
  {
   "cell_type": "markdown",
   "id": "4e570caf",
   "metadata": {},
   "source": [
    "### 3. What are the top 5 establishments with a `RatingValue` rating value of 5, sorted by lowest hygiene score, nearest to the new restaurant added, \"Penang Flavours\"?"
   ]
  },
  {
   "cell_type": "code",
   "execution_count": 15,
   "id": "7f599f3d",
   "metadata": {},
   "outputs": [
    {
     "name": "stdout",
     "output_type": "stream",
     "text": [
      "{'AddressLine1': '130 - 132 Plumstead High Street',\n",
      " 'AddressLine2': '',\n",
      " 'AddressLine3': 'Plumstead',\n",
      " 'AddressLine4': 'Greenwich',\n",
      " 'BusinessName': 'Volunteer',\n",
      " 'BusinessType': 'Pub/bar/nightclub',\n",
      " 'BusinessTypeID': 7843,\n",
      " 'ChangesByServerID': 0,\n",
      " 'Distance': 4646.965634598608,\n",
      " 'FHRSID': 694609,\n",
      " 'LocalAuthorityBusinessID': 'PI/000116619',\n",
      " 'LocalAuthorityCode': '511',\n",
      " 'LocalAuthorityEmailAddress': 'health@royalgreenwich.gov.uk',\n",
      " 'LocalAuthorityName': 'Greenwich',\n",
      " 'LocalAuthorityWebSite': 'http://www.royalgreenwich.gov.uk',\n",
      " 'NewRatingPending': False,\n",
      " 'Phone': '',\n",
      " 'PostCode': 'SE18 1JQ',\n",
      " 'RatingDate': '2019-08-05T00:00:00',\n",
      " 'RatingKey': 'fhrs_5_en-gb',\n",
      " 'RatingValue': '5',\n",
      " 'RightToReply': '',\n",
      " 'SchemeType': 'FHRS',\n",
      " '_id': ObjectId('65bb2a4ddd0c55f5aa685fda'),\n",
      " 'geocode': {'latitude': 51.4873437, 'longitude': 0.09208},\n",
      " 'links': [{'href': 'http://api.ratings.food.gov.uk/establishments/694609',\n",
      "            'rel': 'self'}],\n",
      " 'meta': {'dataSource': None,\n",
      "          'extractDate': '0001-01-01T00:00:00',\n",
      "          'itemCount': 0,\n",
      "          'pageNumber': 0,\n",
      "          'pageSize': 0,\n",
      "          'returncode': None,\n",
      "          'totalCount': 0,\n",
      "          'totalPages': 0},\n",
      " 'scores': {'ConfidenceInManagement': 0, 'Hygiene': 0, 'Structural': 0}}\n",
      "{'AddressLine1': 'Plumstead Manor School Old Mill Road',\n",
      " 'AddressLine2': '',\n",
      " 'AddressLine3': 'Plumstead',\n",
      " 'AddressLine4': 'Greenwich',\n",
      " 'BusinessName': 'Plumstead Manor Nursery',\n",
      " 'BusinessType': 'Caring Premises',\n",
      " 'BusinessTypeID': 5,\n",
      " 'ChangesByServerID': 0,\n",
      " 'Distance': 4646.9740101340385,\n",
      " 'FHRSID': 695241,\n",
      " 'LocalAuthorityBusinessID': 'PI/000179088',\n",
      " 'LocalAuthorityCode': '511',\n",
      " 'LocalAuthorityEmailAddress': 'health@royalgreenwich.gov.uk',\n",
      " 'LocalAuthorityName': 'Greenwich',\n",
      " 'LocalAuthorityWebSite': 'http://www.royalgreenwich.gov.uk',\n",
      " 'NewRatingPending': False,\n",
      " 'Phone': '',\n",
      " 'PostCode': 'SE18 1QG',\n",
      " 'RatingDate': '2021-06-16T00:00:00',\n",
      " 'RatingKey': 'fhrs_5_en-gb',\n",
      " 'RatingValue': '5',\n",
      " 'RightToReply': '',\n",
      " 'SchemeType': 'FHRS',\n",
      " '_id': ObjectId('65bb2a4ddd0c55f5aa685ff1'),\n",
      " 'geocode': {'latitude': 51.481517791748, 'longitude': 0.0859939977526665},\n",
      " 'links': [{'href': 'http://api.ratings.food.gov.uk/establishments/695241',\n",
      "            'rel': 'self'}],\n",
      " 'meta': {'dataSource': None,\n",
      "          'extractDate': '0001-01-01T00:00:00',\n",
      "          'itemCount': 0,\n",
      "          'pageNumber': 0,\n",
      "          'pageSize': 0,\n",
      "          'returncode': None,\n",
      "          'totalCount': 0,\n",
      "          'totalPages': 0},\n",
      " 'scores': {'ConfidenceInManagement': 5, 'Hygiene': 0, 'Structural': 0}}\n",
      "{'AddressLine1': '35 Lakedale Road',\n",
      " 'AddressLine2': '',\n",
      " 'AddressLine3': 'Plumstead',\n",
      " 'AddressLine4': 'Greenwich',\n",
      " 'BusinessName': 'Atlantic Fish Bar',\n",
      " 'BusinessType': 'Takeaway/sandwich shop',\n",
      " 'BusinessTypeID': 7844,\n",
      " 'ChangesByServerID': 0,\n",
      " 'Distance': 4646.974611855838,\n",
      " 'FHRSID': 694478,\n",
      " 'LocalAuthorityBusinessID': 'PI/000086506',\n",
      " 'LocalAuthorityCode': '511',\n",
      " 'LocalAuthorityEmailAddress': 'health@royalgreenwich.gov.uk',\n",
      " 'LocalAuthorityName': 'Greenwich',\n",
      " 'LocalAuthorityWebSite': 'http://www.royalgreenwich.gov.uk',\n",
      " 'NewRatingPending': False,\n",
      " 'Phone': '',\n",
      " 'PostCode': 'SE18 1PR',\n",
      " 'RatingDate': '2021-06-16T00:00:00',\n",
      " 'RatingKey': 'fhrs_5_en-gb',\n",
      " 'RatingValue': '5',\n",
      " 'RightToReply': '',\n",
      " 'SchemeType': 'FHRS',\n",
      " '_id': ObjectId('65bb2a4ddd0c55f5aa685ff4'),\n",
      " 'geocode': {'latitude': 51.4867296, 'longitude': 0.0912164},\n",
      " 'links': [{'href': 'http://api.ratings.food.gov.uk/establishments/694478',\n",
      "            'rel': 'self'}],\n",
      " 'meta': {'dataSource': None,\n",
      "          'extractDate': '0001-01-01T00:00:00',\n",
      "          'itemCount': 0,\n",
      "          'pageNumber': 0,\n",
      "          'pageSize': 0,\n",
      "          'returncode': None,\n",
      "          'totalCount': 0,\n",
      "          'totalPages': 0},\n",
      " 'scores': {'ConfidenceInManagement': 5, 'Hygiene': 0, 'Structural': 0}}\n",
      "{'AddressLine1': '144 - 146 Plumstead High Street',\n",
      " 'AddressLine2': '',\n",
      " 'AddressLine3': 'Plumstead',\n",
      " 'AddressLine4': 'Greenwich',\n",
      " 'BusinessName': 'Iceland',\n",
      " 'BusinessType': 'Retailers - supermarkets/hypermarkets',\n",
      " 'BusinessTypeID': 7840,\n",
      " 'ChangesByServerID': 0,\n",
      " 'Distance': 4646.946071297699,\n",
      " 'FHRSID': 695223,\n",
      " 'LocalAuthorityBusinessID': 'PI/000178842',\n",
      " 'LocalAuthorityCode': '511',\n",
      " 'LocalAuthorityEmailAddress': 'health@royalgreenwich.gov.uk',\n",
      " 'LocalAuthorityName': 'Greenwich',\n",
      " 'LocalAuthorityWebSite': 'http://www.royalgreenwich.gov.uk',\n",
      " 'NewRatingPending': False,\n",
      " 'Phone': '',\n",
      " 'PostCode': 'SE18 1JQ',\n",
      " 'RatingDate': '2019-11-13T00:00:00',\n",
      " 'RatingKey': 'fhrs_5_en-gb',\n",
      " 'RatingValue': '5',\n",
      " 'RightToReply': '',\n",
      " 'SchemeType': 'FHRS',\n",
      " '_id': ObjectId('65bb2a4ddd0c55f5aa685fab'),\n",
      " 'geocode': {'latitude': 51.4871482849121, 'longitude': 0.0924199968576431},\n",
      " 'links': [{'href': 'http://api.ratings.food.gov.uk/establishments/695223',\n",
      "            'rel': 'self'}],\n",
      " 'meta': {'dataSource': None,\n",
      "          'extractDate': '0001-01-01T00:00:00',\n",
      "          'itemCount': 0,\n",
      "          'pageNumber': 0,\n",
      "          'pageSize': 0,\n",
      "          'returncode': None,\n",
      "          'totalCount': 0,\n",
      "          'totalPages': 0},\n",
      " 'scores': {'ConfidenceInManagement': 5, 'Hygiene': 0, 'Structural': 5}}\n",
      "{'AddressLine1': 'Restaurant And Premises 107A Plumstead High Street',\n",
      " 'AddressLine2': '',\n",
      " 'AddressLine3': 'Plumstead',\n",
      " 'AddressLine4': 'Greenwich',\n",
      " 'BusinessName': 'Howe and Co Fish and Chips - Van 17',\n",
      " 'BusinessType': 'Mobile caterer',\n",
      " 'BusinessTypeID': 7846,\n",
      " 'ChangesByServerID': 0,\n",
      " 'Distance': 4646.95593107927,\n",
      " 'FHRSID': 1380578,\n",
      " 'LocalAuthorityBusinessID': '14425',\n",
      " 'LocalAuthorityCode': '511',\n",
      " 'LocalAuthorityEmailAddress': 'health@royalgreenwich.gov.uk',\n",
      " 'LocalAuthorityName': 'Greenwich',\n",
      " 'LocalAuthorityWebSite': 'http://www.royalgreenwich.gov.uk',\n",
      " 'NewRatingPending': False,\n",
      " 'Phone': '',\n",
      " 'PostCode': 'SE18 1SE',\n",
      " 'RatingDate': '2021-11-11T00:00:00',\n",
      " 'RatingKey': 'fhrs_5_en-gb',\n",
      " 'RatingValue': '5',\n",
      " 'RightToReply': '',\n",
      " 'SchemeType': 'FHRS',\n",
      " '_id': ObjectId('65bb2a4ddd0c55f5aa685fbd'),\n",
      " 'geocode': {'latitude': 51.4875335693359, 'longitude': 0.0925370007753372},\n",
      " 'links': [{'href': 'http://api.ratings.food.gov.uk/establishments/1380578',\n",
      "            'rel': 'self'}],\n",
      " 'meta': {'dataSource': None,\n",
      "          'extractDate': '0001-01-01T00:00:00',\n",
      "          'itemCount': 0,\n",
      "          'pageNumber': 0,\n",
      "          'pageSize': 0,\n",
      "          'returncode': None,\n",
      "          'totalCount': 0,\n",
      "          'totalPages': 0},\n",
      " 'scores': {'ConfidenceInManagement': 0, 'Hygiene': 0, 'Structural': 0}}\n"
     ]
    }
   ],
   "source": [
    "# Search within 0.01 degree on either side of the latitude and longitude.\n",
    "# Rating value must equal 5\n",
    "# Sort by hygiene score\n",
    "\n",
    "degree_search = 0.01\n",
    "latitude = 51.490142\n",
    "longitude = 0.08384\n",
    "\n",
    "query3 = {'RatingValue': '5', \n",
    "         'geocode.latitude': {'$lte': (latitude + degree_search), '$gte': (latitude - degree_search)}, \n",
    "         'geocode.longitude': {'$lte': (longitude + degree_search), '$gte': (longitude - degree_search)} \n",
    "         }\n",
    "sort =  [('scores.Hygiene', 1)]\n",
    "\n",
    "# Print the results\n",
    "for result in establishments.find(query3).sort(sort).limit(5):\n",
    "    pprint(result)\n"
   ]
  },
  {
   "cell_type": "code",
   "execution_count": 18,
   "id": "a6ad16f7",
   "metadata": {},
   "outputs": [
    {
     "ename": "NameError",
     "evalue": "name 'pd' is not defined",
     "output_type": "error",
     "traceback": [
      "\u001b[1;31m---------------------------------------------------------------------------\u001b[0m",
      "\u001b[1;31mNameError\u001b[0m                                 Traceback (most recent call last)",
      "Cell \u001b[1;32mIn[18], line 2\u001b[0m\n\u001b[0;32m      1\u001b[0m \u001b[38;5;66;03m# Convert result to Pandas DataFrame\u001b[39;00m\n\u001b[1;32m----> 2\u001b[0m \u001b[43mpd\u001b[49m\u001b[38;5;241m.\u001b[39mDataFrame(establishments\u001b[38;5;241m.\u001b[39mfind(query3)\u001b[38;5;241m.\u001b[39msort(sort)\u001b[38;5;241m.\u001b[39mlimit(\u001b[38;5;241m5\u001b[39m))\n",
      "\u001b[1;31mNameError\u001b[0m: name 'pd' is not defined"
     ]
    }
   ],
   "source": [
    "# Convert result to Pandas DataFrame\n",
    "pd.DataFrame(establishments.find(query3).sort(sort).limit(5))"
   ]
  },
  {
   "cell_type": "markdown",
   "id": "67281254",
   "metadata": {},
   "source": [
    "### 4. How many establishments in each Local Authority area have a hygiene score of 0?"
   ]
  },
  {
   "cell_type": "code",
   "execution_count": 19,
   "id": "4eeb227e",
   "metadata": {},
   "outputs": [
    {
     "name": "stdout",
     "output_type": "stream",
     "text": [
      "There are 55 documents in the result.\n",
      "[{'_id': 'Thanet', 'count': 1130},\n",
      " {'_id': 'Greenwich', 'count': 882},\n",
      " {'_id': 'Maidstone', 'count': 713},\n",
      " {'_id': 'Newham', 'count': 711},\n",
      " {'_id': 'Swale', 'count': 686},\n",
      " {'_id': 'Chelmsford', 'count': 680},\n",
      " {'_id': 'Medway', 'count': 672},\n",
      " {'_id': 'Bexley', 'count': 607},\n",
      " {'_id': 'Southend-On-Sea', 'count': 586},\n",
      " {'_id': 'Tendring', 'count': 542}]\n"
     ]
    }
   ],
   "source": [
    "# Create a pipeline that: \n",
    "# 1. Matches establishments with a hygiene score of 0\n",
    "# 2. Groups the matches by Local Authority\n",
    "# 3. Sorts the matches from highest to lowest\n",
    "match_query = {'$match': {'scores.Hygiene': 0}}\n",
    "group_query = {'$group': {'_id': '$LocalAuthorityName', \n",
    "                          'count': {'$sum': 1}\n",
    "                         }\n",
    "              }\n",
    "sort_query = {'$sort': {'count': -1}}\n",
    "\n",
    "pipeline = [match_query, group_query, sort_query]\n",
    "\n",
    "results = list(establishments.aggregate(pipeline))\n",
    "\n",
    "# Print the number of documents in the result\n",
    "print(f\"There are {len(results)} documents in the result.\")\n",
    "\n",
    "# Print the first 10 results\n",
    "pprint(results[0:10])\n"
   ]
  },
  {
   "cell_type": "code",
   "execution_count": 21,
   "id": "d8aab364",
   "metadata": {},
   "outputs": [
    {
     "ename": "NameError",
     "evalue": "name 'pd' is not defined",
     "output_type": "error",
     "traceback": [
      "\u001b[1;31m---------------------------------------------------------------------------\u001b[0m",
      "\u001b[1;31mNameError\u001b[0m                                 Traceback (most recent call last)",
      "Cell \u001b[1;32mIn[21], line 2\u001b[0m\n\u001b[0;32m      1\u001b[0m \u001b[38;5;66;03m# Convert the result to a Pandas DataFrame\u001b[39;00m\n\u001b[1;32m----> 2\u001b[0m aggregate_df \u001b[38;5;241m=\u001b[39m \u001b[43mpd\u001b[49m\u001b[38;5;241m.\u001b[39mjson_normalize(results)\n\u001b[0;32m      4\u001b[0m \u001b[38;5;66;03m# Display the number of rows in the DataFrame\u001b[39;00m\n\u001b[0;32m      5\u001b[0m \u001b[38;5;28mprint\u001b[39m(\u001b[38;5;124mf\u001b[39m\u001b[38;5;124m\"\u001b[39m\u001b[38;5;124mThere are \u001b[39m\u001b[38;5;132;01m{\u001b[39;00m\u001b[38;5;28mlen\u001b[39m(agg_df)\u001b[38;5;132;01m}\u001b[39;00m\u001b[38;5;124m rows in the DataFrame.\u001b[39m\u001b[38;5;124m\"\u001b[39m)\n",
      "\u001b[1;31mNameError\u001b[0m: name 'pd' is not defined"
     ]
    }
   ],
   "source": [
    "# Convert the result to a Pandas DataFrame\n",
    "aggregate_df = pd.json_normalize(results)\n",
    "\n",
    "# Display the number of rows in the DataFrame\n",
    "print(f\"There are {len(agg_df)} rows in the DataFrame.\")\n",
    "\n",
    "# Display the first 10 rows of the DataFrame\n",
    "aggregate_df.head(10)"
   ]
  },
  {
   "cell_type": "code",
   "execution_count": null,
   "id": "3abb4e49",
   "metadata": {},
   "outputs": [],
   "source": []
  }
 ],
 "metadata": {
  "kernelspec": {
   "display_name": "Python 3 (ipykernel)",
   "language": "python",
   "name": "python3"
  },
  "language_info": {
   "codemirror_mode": {
    "name": "ipython",
    "version": 3
   },
   "file_extension": ".py",
   "mimetype": "text/x-python",
   "name": "python",
   "nbconvert_exporter": "python",
   "pygments_lexer": "ipython3",
   "version": "3.10.13"
  }
 },
 "nbformat": 4,
 "nbformat_minor": 5
}
